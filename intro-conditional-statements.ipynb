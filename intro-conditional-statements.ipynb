{
 "cells": [
  {
   "cell_type": "markdown",
   "metadata": {},
   "source": [
    "## Conditional Statements\n",
    "\n",
    "In the lesson introducing DRY code, you learned that conditional statements provide you with the ability to control when or how code is executed.  \n",
    "\n",
    "This can be very useful for checking whether a certain condition exists before the code begins to execute, as you may want to only execute certain code lines when certain conditions are met.   \n",
    "\n",
    "For example, conditional statements can be used to check that a certain variable or file exists before code is executed, or to execute more code if some criteria is met, such as a calculation resulting in a specific value. \n",
    "\n",
    "### Structure of Conditional Statements\n",
    "\n",
    "The structure of a conditional statement is defined through the use of `if` and `else`. \n",
    "\n",
    "```python\n",
    "if condition:\n",
    "    print(\"condition is true\")\n",
    "else:\n",
    "    print(\"condition not true\")\n",
    "```\n",
    "\n",
    "When the condition following the `if` is met, then a certain code will execute. When that condition is not met, then the code following the `else` will execute.\n",
    "\n",
    "Review these simple examples to see how the `if` and `else` are used to control which code lines are executed."
   ]
  },
  {
   "cell_type": "code",
   "execution_count": 7,
   "metadata": {},
   "outputs": [
    {
     "name": "stdout",
     "output_type": "stream",
     "text": [
      "x has a value of 10 which is not less than 10.\n"
     ]
    }
   ],
   "source": [
    "# create a variable x with the value of 0\n",
    "x = 0\n",
    "\n",
    "# compare the value of x to 10 and print a message depending on the outcome of the comparison\n",
    "if x < 10:\n",
    "    print(\"x has a value of\", x, \"which is less than 10.\")\n",
    "    \n",
    "else:\n",
    "    print(\"x has a value of\", x, \"which is not less than 10.\")    "
   ]
  },
  {
   "cell_type": "code",
   "execution_count": 2,
   "metadata": {},
   "outputs": [
    {
     "name": "stdout",
     "output_type": "stream",
     "text": [
      "x has a value of 100 which is not less than 10.\n"
     ]
    }
   ],
   "source": [
    "# create a variable x with the value of 100\n",
    "x = 100\n",
    "\n",
    "# compare the value of x to 10 and print a message depending on the outcome of the comparison\n",
    "if x < 10:\n",
    "    print(\"x has a value of\", x, \"which is less than 10.\")\n",
    "    \n",
    "else:\n",
    "    print(\"x has a value of\", x, \"which is not less than 10.\") "
   ]
  },
  {
   "cell_type": "markdown",
   "metadata": {},
   "source": [
    "You can also write conditional statements to identify keywords within a text string, such as the name of a variable. "
   ]
  },
  {
   "cell_type": "code",
   "execution_count": 3,
   "metadata": {},
   "outputs": [
    {
     "name": "stdout",
     "output_type": "stream",
     "text": [
      "This file contains the keyword: precip.\n"
     ]
    }
   ],
   "source": [
    "# check if the text string \"precip\" in contained within the text string \"avg_monthly_precip\"\n",
    "if \"precip\" in \"avg_monthly_precip\":\n",
    "    print(\"This file contains the keyword: precip.\")\n",
    "    \n",
    "else:\n",
    "    print(\"This file does not contain the keyword: precip\")"
   ]
  },
  {
   "cell_type": "code",
   "execution_count": 9,
   "metadata": {},
   "outputs": [
    {
     "name": "stdout",
     "output_type": "stream",
     "text": [
      "This file contains the keyword: precip.\n"
     ]
    }
   ],
   "source": [
    "# check if the text string \"precip\" in contained within the text string \"avg_monthly_temp\"\n",
    "if \"precip\" in \"avg_monthly_temp\":\n",
    "    print(\"This file contains the keyword: precip.\")\n",
    "    \n",
    "else:\n",
    "    print(\"This file does not contain the keyword: precip.\")"
   ]
  },
  {
   "cell_type": "markdown",
   "metadata": {},
   "source": [
    "## Optional Challenge 1\n",
    "\n",
    "Test your `Python` skills to:\n",
    "\n",
    "1. Write a conditional statement that will print a message depending on whether following condition is met: the value of `x` is equal to `35`. \n",
    "    * Set `x` equal to `25`, and print a message stating whether `x` is equal to `35`. \n",
    "    * Note that the comparison operator for `equal to` is `==`. \n",
    "\n",
    "2. How does the the comparison operator for `equal to` differ from using the `=` to assign values to variable names?\n"
   ]
  },
  {
   "cell_type": "code",
   "execution_count": 5,
   "metadata": {},
   "outputs": [
    {
     "name": "stdout",
     "output_type": "stream",
     "text": [
      "x has a value of 25 which is not equal to 35.\n"
     ]
    }
   ],
   "source": [
    "# create a variable x with the value of 25\n",
    "x = 25\n",
    "\n",
    "# compare the value of x to 35 and print a message depending on the outcome of the comparison\n",
    "if x == 35:\n",
    "    print(\"x has a value of\", x, \"which is equal to 35.\")\n",
    "    \n",
    "else:\n",
    "    print(\"x has a value of\", x, \"which is not equal to 35.\")    "
   ]
  },
  {
   "cell_type": "markdown",
   "metadata": {},
   "source": [
    "## Optional Challenge 2\n",
    "\n",
    "Test your `Python` skills to:\n",
    "\n",
    "1. Write a conditional statement that will add a value of `15` to a variable `x` if the following condition is met: the value of `x` is NOT equal to `35`. \n",
    "    * Set `x` equal to `25` and use the assignment operator to add `15` when `x` is not equal to `35`. \n",
    "    * Note that the comparison operator for `not equal to` is `!=`.\n",
    "    * For both the `if` and `else`, print the final value of `x`.\n"
   ]
  },
  {
   "cell_type": "code",
   "execution_count": 6,
   "metadata": {
    "tags": [
     "hide"
    ]
   },
   "outputs": [
    {
     "name": "stdout",
     "output_type": "stream",
     "text": [
      "40\n"
     ]
    }
   ],
   "source": [
    "# create a variable x with the value of 25\n",
    "x = 25\n",
    "\n",
    "# compare the value of x to 35 and print a message depending on the outcome of the comparison\n",
    "if x != 35:\n",
    "    x += 15\n",
    "    print(x)\n",
    "    \n",
    "else:\n",
    "    print(x) \n"
   ]
  }
 ],
 "metadata": {
  "celltoolbar": "Tags",
  "kernelspec": {
   "display_name": "Python 3",
   "language": "python",
   "name": "python3"
  },
  "language_info": {
   "codemirror_mode": {
    "name": "ipython",
    "version": 3
   },
   "file_extension": ".py",
   "mimetype": "text/x-python",
   "name": "python",
   "nbconvert_exporter": "python",
   "pygments_lexer": "ipython3",
   "version": "3.7.3"
  }
 },
 "nbformat": 4,
 "nbformat_minor": 2
}
